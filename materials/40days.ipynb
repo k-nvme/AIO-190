{
 "cells": [
  {
   "cell_type": "code",
   "execution_count": 17,
   "metadata": {},
   "outputs": [],
   "source": [
    "#Create Data\n",
    "canList = [\"Canh\", \"Tân\", \"Nhâm\", \"Giáp\", \"Ất\", \"Bính\", \"Đinh\", \"Mậu\", \"Kỷ\"]\n",
    "chiList = [\"Canh\", \"Tân\", \"Nhâm\", \"Giáp\", \"Ất\", \"Bính\", \"Đinh\", \"Mậu\", \"Kỷ\", \"11\", \"12\"]\n",
    "year = ''\n",
    "\n",
    "def chinese_cal(year):\n",
    "    #Create func for calculating Chinese Calendar\n",
    "    def canIs(year):\n",
    "        can = year % 10\n",
    "        return can\n",
    "    \n",
    "    def chiIs(year):\n",
    "        chi = year % 12\n",
    "        return chi\n",
    "    \n",
    "    canResult = canList[canIs(year)] # canIs() #calling calculation\n",
    "    chiResult = chiList[chiIs(year)] # chiIs() #calling calculation\n",
    "    return canResult, chiResult"
   ]
  },
  {
   "cell_type": "code",
   "execution_count": 19,
   "metadata": {},
   "outputs": [
    {
     "name": "stdout",
     "output_type": "stream",
     "text": [
      "Năm 2024 là năm Ất Kỷ\n"
     ]
    }
   ],
   "source": [
    "year = int(input('Vui long nhập năm cần tính'))\n",
    "canResult, chiResult = chinese_cal(year)\n",
    "print(f\"Năm {year} là năm {canResult} {chiResult}\")"
   ]
  },
  {
   "cell_type": "code",
   "execution_count": null,
   "metadata": {},
   "outputs": [],
   "source": [
    "-----------------------------------------------------------------------------------------------------"
   ]
  },
  {
   "cell_type": "markdown",
   "metadata": {},
   "source": []
  }
 ],
 "metadata": {
  "kernelspec": {
   "display_name": "base",
   "language": "python",
   "name": "python3"
  },
  "language_info": {
   "codemirror_mode": {
    "name": "ipython",
    "version": 3
   },
   "file_extension": ".py",
   "mimetype": "text/x-python",
   "name": "python",
   "nbconvert_exporter": "python",
   "pygments_lexer": "ipython3",
   "version": "3.11.7"
  }
 },
 "nbformat": 4,
 "nbformat_minor": 2
}
