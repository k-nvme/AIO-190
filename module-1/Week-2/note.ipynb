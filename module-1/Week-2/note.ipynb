{
 "cells": [
  {
   "cell_type": "code",
   "execution_count": 7,
   "metadata": {},
   "outputs": [
    {
     "name": "stdout",
     "output_type": "stream",
     "text": [
      "[3, 4, 5]\n",
      "[4, 5] have max is 5\n",
      "[4, 5, 1]\n",
      "[5, 1] have max is 5\n",
      "[5, 1, -44]\n",
      "[1, -44] have max is 1\n",
      "[1, -44, 5]\n",
      "[-44, 5] have max is 5\n",
      "[-44, 5, 10]\n",
      "[5, 10] have max is 10\n",
      "[5, 10, 12]\n",
      "[10, 12] have max is 12\n",
      "[10, 12, 33]\n",
      "[12, 33] have max is 33\n",
      "[12, 33, 1]\n",
      "[33, 1] have max is 33\n"
     ]
    }
   ],
   "source": [
    "#\n",
    "num_list = [3, 4, 5, 1, -44 , 5 ,10, 12 ,33, 1]\n",
    "k = 3 #\n",
    "reuslt = []\n",
    "\n",
    "#\n",
    "sub_list = []\n",
    "\n",
    "for element in num_list: #duyệt theo giá trị\n",
    "    sub_list.append(element)\n",
    "    \n",
    "    if len(sub_list) == k:\n",
    "        print(sub_list)\n",
    "        del sub_list[0]\n",
    "        maxNumber = max(sub_list)\n",
    "        print(f\"{sub_list} have max is {maxNumber}\")\n",
    "        "
   ]
  },
  {
   "cell_type": "code",
   "execution_count": 8,
   "metadata": {},
   "outputs": [
    {
     "name": "stdout",
     "output_type": "stream",
     "text": [
      "[0, 1, 2, 3, 4, 5, 6, 7]\n",
      "[3, 4, 5, 6, 7, 8, 9, 10]\n"
     ]
    }
   ],
   "source": [
    "#\n",
    "num_list = [3, 4, 5, 1, -44 , 5 ,10, 12 ,33, 1]\n",
    "k = 3 #\n",
    "\n",
    "start_indexs =list(range(0, len(num_list)-k+1))\n",
    "end_indexs =list(range(k, len(num_list)+1))\n",
    "\n",
    "print(start_indexs)\n",
    "print(end_indexs)"
   ]
  },
  {
   "cell_type": "code",
   "execution_count": 9,
   "metadata": {},
   "outputs": [
    {
     "name": "stdout",
     "output_type": "stream",
     "text": [
      "{'I': 1, 'love': 1, 'AI': 1}\n"
     ]
    }
   ],
   "source": [
    "sentence = 'I love AI'\n",
    "words = sentence.split()\n",
    "\n",
    "counter = {}\n",
    "\n",
    "for word in words:\n",
    "    if word in counter:\n",
    "        counter[word] += 1\n",
    "    else:\n",
    "        counter[word] = 1\n",
    "        \n",
    "print(counter)\n",
    "\n"
   ]
  }
 ],
 "metadata": {
  "kernelspec": {
   "display_name": "base",
   "language": "python",
   "name": "python3"
  },
  "language_info": {
   "codemirror_mode": {
    "name": "ipython",
    "version": 3
   },
   "file_extension": ".py",
   "mimetype": "text/x-python",
   "name": "python",
   "nbconvert_exporter": "python",
   "pygments_lexer": "ipython3",
   "version": "3.11.7"
  }
 },
 "nbformat": 4,
 "nbformat_minor": 2
}
