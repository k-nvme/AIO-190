{
 "cells": [
  {
   "cell_type": "code",
   "execution_count": 1,
   "metadata": {},
   "outputs": [
    {
     "name": "stdout",
     "output_type": "stream",
     "text": [
      "None\n",
      "10\n",
      "ngủ\n"
     ]
    }
   ],
   "source": [
    "# class Cat(self, name, color, age, state):\n",
    "class Cat:\n",
    "    def __init__(self, name, age, state):\n",
    "        self.name = name\n",
    "        self.age = age\n",
    "        self.state = state\n",
    "\n",
    "    def sleep(self):\n",
    "        self.state = \"ngủ\"\n",
    "        return self.state\n",
    "\n",
    "Jerry = Cat(\"Jerry\", 10, None)\n",
    "print(Jerry.state)\n",
    "print(Jerry.age)\n",
    "\n",
    "Jerry.sleep()\n",
    "print(Jerry.state)"
   ]
  },
  {
   "cell_type": "markdown",
   "metadata": {},
   "source": [
    "## OOP - Pytorch\n",
    "### Ex 1\n"
   ]
  },
  {
   "cell_type": "code",
   "execution_count": 8,
   "metadata": {},
   "outputs": [
    {
     "data": {
      "text/plain": [
       "tensor([0.0900, 0.2447, 0.6652])"
      ]
     },
     "execution_count": 8,
     "metadata": {},
     "output_type": "execute_result"
    }
   ],
   "source": [
    "import torch\n",
    "import torch.nn as nn\n",
    "\n",
    "\n",
    "class MySoftmax(nn.Module):\n",
    "    def __init__(self):\n",
    "        super().__init__()\n",
    "\n",
    "    def forward(self, x):\n",
    "        x_exp = torch.exp(x)\n",
    "        partition = x_exp.sum(0, keepdims=True)\n",
    "        return x_exp / partition\n",
    "\n",
    "class SoftmaxStable(nn.Module):\n",
    "    def __init__(self):\n",
    "        super().__init__()\n",
    "\n",
    "    def forward(self, x):\n",
    "        x_max = torch.max(x, dim=0, keepdims=True)\n",
    "        x_exp = torch.exp(x - x_max.values)\n",
    "        partition = x_exp.sum(0, keepdims=True)\n",
    "        return x_exp / partition\n",
    "\n",
    "\n",
    "data = torch.Tensor([1, 2, 3])\n",
    "softmax_stable = SoftmaxStable()\n",
    "output = softmax_stable(data)\n",
    "output\n",
    "\n",
    "\n",
    "data = torch.Tensor([1, 2, 3])\n",
    "my_softmax = MySoftmax()\n",
    "output = my_softmax(data)\n",
    "output"
   ]
  },
  {
   "cell_type": "code",
   "execution_count": 4,
   "metadata": {},
   "outputs": [
    {
     "data": {
      "text/plain": [
       "tensor([0.0900, 0.2447, 0.6652])"
      ]
     },
     "execution_count": 4,
     "metadata": {},
     "output_type": "execute_result"
    }
   ],
   "source": [
    "data = torch.Tensor ([1 , 2 , 3])\n",
    "softmax_function = nn.Softmax(dim =0)\n",
    "output = softmax_function(data)\n",
    "assert round(output [0].item(),2) == 0.09\n",
    "output"
   ]
  },
  {
   "cell_type": "code",
   "execution_count": 5,
   "metadata": {},
   "outputs": [
    {
     "data": {
      "text/plain": [
       "tensor([0.7054, 0.0351, 0.2595])"
      ]
     },
     "execution_count": 5,
     "metadata": {},
     "output_type": "execute_result"
    }
   ],
   "source": [
    "data = torch . Tensor ([5 , 2 , 4])\n",
    "my_softmax = MySoftmax ()\n",
    "output = my_softmax ( data )\n",
    "assert round ( output [ -1]. item () , 2) == 0.26\n",
    "output"
   ]
  },
  {
   "cell_type": "code",
   "execution_count": 6,
   "metadata": {},
   "outputs": [
    {
     "data": {
      "text/plain": [
       "tensor([0., 0., nan])"
      ]
     },
     "execution_count": 6,
     "metadata": {},
     "output_type": "execute_result"
    }
   ],
   "source": [
    "data = torch . Tensor ([1 , 2 , 300000000])\n",
    "my_softmax = MySoftmax ()\n",
    "output = my_softmax ( data )\n",
    "assert round ( output [0]. item () , 2) == 0.0\n",
    "output"
   ]
  },
  {
   "cell_type": "code",
   "execution_count": 9,
   "metadata": {},
   "outputs": [
    {
     "data": {
      "text/plain": [
       "tensor([0.0900, 0.2447, 0.6652])"
      ]
     },
     "execution_count": 9,
     "metadata": {},
     "output_type": "execute_result"
    }
   ],
   "source": [
    "data = torch . Tensor ([1 , 2 , 3])\n",
    "softmax_stable = SoftmaxStable ()\n",
    "output = softmax_stable ( data )\n",
    "assert round ( output [ -1]. item () , 2) == 0.67\n",
    "output"
   ]
  },
  {
   "cell_type": "code",
   "execution_count": 3,
   "metadata": {},
   "outputs": [],
   "source": [
    "from abc import ABC, abstractmethod\n",
    "\n",
    "\n",
    "class Person(ABC):\n",
    "    def __init__(self, name, yob):\n",
    "        self._name =  name\n",
    "        self._yob = yob\n",
    "        \n",
    "    def get_yob(self):\n",
    "        return self._yob\n",
    "        \n",
    "        \n",
    "    @abstractmethod\n",
    "    def describe(self):\n",
    "        pass\n",
    "\n",
    "\n",
    "class Student(Person):\n",
    "    def __init__(self, name, yob, grade): #student will add Grade\n",
    "\n",
    "        super().__init__(name=name, yob=yob)\n",
    "        self.__grade = grade\n",
    "\n",
    "    def describe(self):\n",
    "        print(\n",
    "            f\" Student - Name: {self._name} | YoB: {self._yob} | Grade: {self.__grade}\"\n",
    "        )\n",
    "\n",
    "\n",
    "class Doctor(Person):\n",
    "    def __init__(self, name, yob, specialist):  # student will add Grade\n",
    "\n",
    "        super().__init__(name=name, yob=yob)\n",
    "        self.__specialist = specialist\n",
    "\n",
    "    def describe(self):\n",
    "        print(\n",
    "            f\" Doctor - Name: {self._name} | YoB: {self._yob} | Specialist: {self.__specialist}\"\n",
    "        )\n",
    "\n",
    "\n",
    "class Teacher(Person):\n",
    "    def __init__(self, name, yob, subject):  # student will add Grade\n",
    "\n",
    "        super().__init__(name=name, yob=yob)\n",
    "        self.__subject = subject\n",
    "\n",
    "    def describe(self):\n",
    "        print(f\" Teacher - Name: {self._name} | YoB: {self._yob} | Subject: {self.__subject}\")"
   ]
  },
  {
   "cell_type": "code",
   "execution_count": 4,
   "metadata": {},
   "outputs": [
    {
     "name": "stdout",
     "output_type": "stream",
     "text": [
      " Student - Name: Nguyen | YoB: 1998 | Grade: 10\n",
      " Doctor - Name: Phat | YoB: 1999 | Specialist: Crazy\n",
      " Teacher - Name: Hieu | YoB: 1998 | Subject: Math\n"
     ]
    }
   ],
   "source": [
    "Nguyen = Student(\"Nguyen\", 1998, 10)\n",
    "Phat = Doctor('Phat', 1999, 'Crazy')\n",
    "Hieu = Teacher(\"Hieu\", 1998, 'Math')\n",
    "\n",
    "Nguyen.describe()\n",
    "Phat.describe()\n",
    "Hieu.describe()"
   ]
  },
  {
   "cell_type": "code",
   "execution_count": 5,
   "metadata": {},
   "outputs": [],
   "source": [
    "class Ward():\n",
    "    def __init__(self, name):\n",
    "        self.__name = name\n",
    "        self.__list_people = list()\n",
    "\n",
    "    def add_person(self, person: Person):\n",
    "        self.__list_people.append(person)\n",
    "\n",
    "    def describe(self):\n",
    "        print(f'Name: {self.__name}')\n",
    "        for p in self.__list_people:\n",
    "            p.describe()\n",
    "            \n",
    "    def count_doctor(self):\n",
    "        counter = 0\n",
    "        for p in self.__list_people:\n",
    "            if isinstance(p, Doctor):\n",
    "                counter += 1\n",
    "        return counter\n",
    "    \n",
    "    def sort_yob(self):\n",
    "        return self.__list_people.sort(key = lambda x: x.get_yob())\n",
    "    \n",
    "    def compute_average(self):\n",
    "        counter = 0\n",
    "        total_year = 0\n",
    "        for p in self.__list_people:\n",
    "            if isinstance(p, Teacher):\n",
    "                counter += 1\n",
    "                total_year += p.get_yob()\n",
    "        return total_year / counter\n",
    "                \n",
    "        "
   ]
  },
  {
   "cell_type": "code",
   "execution_count": 6,
   "metadata": {},
   "outputs": [],
   "source": [
    "w1 = Ward('Ward 1')"
   ]
  },
  {
   "cell_type": "code",
   "execution_count": 7,
   "metadata": {},
   "outputs": [
    {
     "name": "stdout",
     "output_type": "stream",
     "text": [
      "Name: Ward 1\n",
      " Student - Name: Nguyen | YoB: 1998 | Grade: 10\n",
      " Doctor - Name: Phat | YoB: 1999 | Specialist: Crazy\n",
      " Teacher - Name: Hieu | YoB: 1998 | Subject: Math\n"
     ]
    }
   ],
   "source": [
    "w1.add_person(Nguyen)\n",
    "w1.add_person(Phat)\n",
    "w1.add_person(Hieu)\n",
    "w1.describe()"
   ]
  },
  {
   "cell_type": "code",
   "execution_count": 11,
   "metadata": {},
   "outputs": [
    {
     "name": "stdout",
     "output_type": "stream",
     "text": [
      "Name: Ward 1\n",
      " Student - Name: Nguyen | YoB: 1998 | Grade: 10\n",
      " Teacher - Name: Hieu | YoB: 1998 | Subject: Math\n",
      " Doctor - Name: Phat | YoB: 1999 | Specialist: Crazy\n",
      "\n",
      "Average year of birth (teachers): 1998.0\n"
     ]
    }
   ],
   "source": [
    "# w1.count_doctor()\n",
    "w1.sort_yob()\n",
    "w1.describe()\n",
    "# w1.compute_average()\n",
    "print(f\"\\nAverage year of birth (teachers): {w1.compute_average()}\")"
   ]
  },
  {
   "cell_type": "markdown",
   "metadata": {},
   "source": [
    "## Ex 3"
   ]
  },
  {
   "cell_type": "code",
   "execution_count": null,
   "metadata": {},
   "outputs": [],
   "source": [
    "class MyStack:\n",
    "    def __init__(self, capacity, ) -> None:\n",
    "        self.__capacity = capacity\n",
    "        self.__stack = []\n",
    "    \n",
    "    def is_empty(self):\n",
    "        \n",
    "        \n",
    "        "
   ]
  },
  {
   "cell_type": "code",
   "execution_count": null,
   "metadata": {},
   "outputs": [],
   "source": [
    "class My_Stack:\n",
    "    def __init__(self) -> None:\n",
    "        \n",
    "    "
   ]
  }
 ],
 "metadata": {
  "kernelspec": {
   "display_name": "base",
   "language": "python",
   "name": "python3"
  },
  "language_info": {
   "codemirror_mode": {
    "name": "ipython",
    "version": 3
   },
   "file_extension": ".py",
   "mimetype": "text/x-python",
   "name": "python",
   "nbconvert_exporter": "python",
   "pygments_lexer": "ipython3",
   "version": "3.11.7"
  }
 },
 "nbformat": 4,
 "nbformat_minor": 2
}
