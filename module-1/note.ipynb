{
 "cells": [
  {
   "cell_type": "markdown",
   "metadata": {},
   "source": [
    "# Week 2\n",
    "## List"
   ]
  },
  {
   "cell_type": "code",
   "execution_count": 30,
   "metadata": {},
   "outputs": [
    {
     "name": "stdout",
     "output_type": "stream",
     "text": [
      "[6, 5, 7, 1, 9, 2]\n",
      "[6, 5, 7, 1, 9, 2]\n",
      "[4, 6, 5, 7, 1, 9, 2]\n",
      "[4, 6, 5, 7, 1, 9, 2, 2]\n"
     ]
    }
   ],
   "source": [
    "data = [\n",
    "    6,\n",
    "    5,\n",
    "    7,\n",
    "    1,\n",
    "    9,\n",
    "    2,\n",
    "]\n",
    "\n",
    "print(data[-6::])\n",
    "\n",
    "\n"
   ]
  },
  {
   "cell_type": "code",
   "execution_count": null,
   "metadata": {},
   "outputs": [],
   "source": [
    "data = [\n",
    "    6,\n",
    "    5,\n",
    "    7,\n",
    "    1,\n",
    "    9,\n",
    "    2,\n",
    "]\n",
    "print(data)\n",
    "data.insert(0, 4)\n",
    "print(data)\n",
    "data.insert(9, 2)\n",
    "print(data)"
   ]
  },
  {
   "cell_type": "code",
   "execution_count": 31,
   "metadata": {},
   "outputs": [
    {
     "name": "stdout",
     "output_type": "stream",
     "text": [
      "[5, 6, 7, -1]\n"
     ]
    }
   ],
   "source": [
    "data = [5, 6, 7]\n",
    "data.append(-1)\n",
    "print(data)"
   ]
  },
  {
   "cell_type": "code",
   "execution_count": 34,
   "metadata": {},
   "outputs": [
    {
     "name": "stdout",
     "output_type": "stream",
     "text": [
      "[5, 4, 6, 7]\n"
     ]
    },
    {
     "data": {
      "text/plain": [
       "[5, 4, 6, 7]"
      ]
     },
     "execution_count": 34,
     "metadata": {},
     "output_type": "execute_result"
    }
   ],
   "source": [
    "data = [5, 6, 7]\n",
    "data.insert(-2, 4)\n",
    "print(data)"
   ]
  },
  {
   "cell_type": "code",
   "execution_count": 36,
   "metadata": {},
   "outputs": [
    {
     "data": {
      "text/plain": [
       "[4, 5, 7, 4]"
      ]
     },
     "execution_count": 36,
     "metadata": {},
     "output_type": "execute_result"
    }
   ],
   "source": [
    "data = [4, 5, 6, 4]\n",
    "data[-2] = 7\n",
    "data"
   ]
  },
  {
   "cell_type": "code",
   "execution_count": 39,
   "metadata": {},
   "outputs": [
    {
     "data": {
      "text/plain": [
       "[9, 9]"
      ]
     },
     "execution_count": 39,
     "metadata": {},
     "output_type": "execute_result"
    }
   ],
   "source": [
    "data = [4, 5, 6, 4]\n",
    "data[0:1] = 9, 9\n",
    "data[0:2]"
   ]
  },
  {
   "cell_type": "code",
   "execution_count": 58,
   "metadata": {},
   "outputs": [
    {
     "name": "stdout",
     "output_type": "stream",
     "text": [
      "[2, [4, 5], 3]\n",
      "1\n"
     ]
    }
   ],
   "source": [
    "data = [ 2, 3, [4, 5], 3]\n",
    "data.remove(3)\n",
    "print(data)\n",
    "# print(data[2:])\n",
    "\n",
    "print(data.count(3))"
   ]
  },
  {
   "cell_type": "code",
   "execution_count": 63,
   "metadata": {},
   "outputs": [
    {
     "name": "stdout",
     "output_type": "stream",
     "text": [
      "4 7\n",
      "False\n"
     ]
    }
   ],
   "source": [
    "data_1 = [2, 3, 4]\n",
    "data_2 = [2, 3, 7]\n",
    "\n",
    "tg = True\n",
    "for v1, v2 in zip(data_1, data_2):\n",
    "    if v1 != v2:\n",
    "        tg = False\n",
    "        print(v1, v2)\n",
    "\n",
    "print(tg)"
   ]
  },
  {
   "cell_type": "code",
   "execution_count": 66,
   "metadata": {},
   "outputs": [
    {
     "name": "stdout",
     "output_type": "stream",
     "text": [
      "1\n",
      "3\n"
     ]
    }
   ],
   "source": [
    "data = ['thai', 'hoa', 'an', 'hoa']\n",
    "\n",
    "for index, value in enumerate(data):\n",
    "    if value == 'hoa':\n",
    "        print(index)"
   ]
  },
  {
   "cell_type": "code",
   "execution_count": 70,
   "metadata": {},
   "outputs": [
    {
     "name": "stdout",
     "output_type": "stream",
     "text": [
      "2\n"
     ]
    }
   ],
   "source": [
    "data = [\"thai\", \"hoa\", \"an\", \"hoa\"]\n",
    "length = len(data)\n",
    "\n",
    "for index in range(length):\n",
    "    if data[index] == \"an\":\n",
    "        print(index)"
   ]
  },
  {
   "cell_type": "code",
   "execution_count": null,
   "metadata": {},
   "outputs": [],
   "source": []
  }
 ],
 "metadata": {
  "kernelspec": {
   "display_name": "base",
   "language": "python",
   "name": "python3"
  },
  "language_info": {
   "codemirror_mode": {
    "name": "ipython",
    "version": 3
   },
   "file_extension": ".py",
   "mimetype": "text/x-python",
   "name": "python",
   "nbconvert_exporter": "python",
   "pygments_lexer": "ipython3",
   "version": "3.11.7"
  }
 },
 "nbformat": 4,
 "nbformat_minor": 2
}
